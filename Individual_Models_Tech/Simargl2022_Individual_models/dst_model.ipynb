{
 "cells": [
  {
   "cell_type": "code",
   "execution_count": 4,
   "metadata": {},
   "outputs": [
    {
     "name": "stderr",
     "output_type": "stream",
     "text": [
      "/tmp/ipykernel_363040/592241806.py:53: DtypeWarning: Columns (29) have mixed types. Specify dtype option on import or set low_memory=False.\n",
      "  df = pd.read_csv('/home/ibibers@ads.iu.edu/IDS_Datasets/Combined_datasets/Simargl2022_combined_dataset.csv')\n"
     ]
    },
    {
     "name": "stdout",
     "output_type": "stream",
     "text": [
      " Extract subsample of data: \n",
      "ALERT\n",
      "Denial of Service    5138973\n",
      "Port Scanning        4170194\n",
      "Malware                  571\n",
      "Name: count, dtype: int64\n"
     ]
    }
   ],
   "source": [
    "# -*- coding: utf-8 -*- \n",
    "# @Time : 2024/2/5 16:00\n",
    "# @Author : Ismail Bibers\n",
    "# This code is written in Python 3.7. To install the required packages, run the following commands:\n",
    "# pip install pandas numpy matplotlib seaborn scikit-learn sympy\n",
    "# This code is applicable to the CICIDS2017 dataset. \n",
    "# implemented Decision Tree Classifier. \n",
    "\n",
    "\n",
    "import pandas as pd\n",
    "from sklearn.preprocessing import LabelEncoder\n",
    "from sklearn.model_selection import train_test_split\n",
    "import matplotlib.pyplot as plt\n",
    "from sklearn.tree import DecisionTreeClassifier\n",
    "from sklearn.metrics import accuracy_score, classification_report\n",
    "from sklearn.metrics import confusion_matrix\n",
    "import seaborn as sns\n",
    "\n",
    "# file_names = ['/home/ibibers@ads.iu.edu/IDS_Datasets/Simargl2022/dos-03-15-2022-15-44-32.csv',\n",
    "#                '/home/ibibers@ads.iu.edu/IDS_Datasets/Simargl2022/dos-03-16-2022-13-45-18.csv',\n",
    "#                  '/home/ibibers@ads.iu.edu/IDS_Datasets/Simargl2022/dos-03-17-2022-16-22-53.csv',\n",
    "#                  '/home/ibibers@ads.iu.edu/IDS_Datasets/Simargl2022/dos-03-18-2022-19-27-05.csv',\n",
    "#                  '/home/ibibers@ads.iu.edu/IDS_Datasets/Simargl2022/dos-03-19-2022-20-01-53.csv',\n",
    "#                  '/home/ibibers@ads.iu.edu/IDS_Datasets/Simargl2022/dos-03-20-2022-14-27-54.csv',\n",
    "#                  '/home/ibibers@ads.iu.edu/IDS_Datasets/Simargl2022/malware-03-25-2022-17-57-07.csv',\n",
    "#                  '/home/ibibers@ads.iu.edu/IDS_Datasets/Simargl2022/normal-03-15-2022-15-43-44.csv',\n",
    "#                  '/home/ibibers@ads.iu.edu/IDS_Datasets/Simargl2022/normal-03-16-2022-13-44-27.csv',\n",
    "#                  '/home/ibibers@ads.iu.edu/IDS_Datasets/Simargl2022/normal-03-17-2022-16-21-30.csv',\n",
    "#                  '/home/ibibers@ads.iu.edu/IDS_Datasets/Simargl2022/normal-03-18-2022-19-17-31.csv',\n",
    "#                  '/home/ibibers@ads.iu.edu/IDS_Datasets/Simargl2022/normal-03-18-2022-19-25-48.csv',\n",
    "#                  '/home/ibibers@ads.iu.edu/IDS_Datasets/Simargl2022/normal-03-19-2022-20-01-16.csv',\n",
    "#                  '/home/ibibers@ads.iu.edu/IDS_Datasets/Simargl2022/normal-03-20-2022-14-27-30.csv',\n",
    "#                  '/home/ibibers@ads.iu.edu/IDS_Datasets/Simargl2022/portscanning-03-15-2022-15-44-06.csv',\n",
    "#                  '/home/ibibers@ads.iu.edu/IDS_Datasets/Simargl2022/portscanning-03-16-2022-13-44-50.csv',\n",
    "#                  '/home/ibibers@ads.iu.edu/IDS_Datasets/Simargl2022/portscanning-03-17-2022-16-22-53.csv',\n",
    "#                  '/home/ibibers@ads.iu.edu/IDS_Datasets/Simargl2022/portscanning-03-18-2022-19-27-05.csv',\n",
    "#                  '/home/ibibers@ads.iu.edu/IDS_Datasets/Simargl2022/portscanning-03-19-2022-20-01-45.csv',\n",
    "#                  '/home/ibibers@ads.iu.edu/IDS_Datasets/Simargl2022/portscanning-03-20-2022-14-27-49.csv']\n",
    "\n",
    "\n",
    "# dataframes = []\n",
    "\n",
    "# for file_name in file_names:\n",
    "#     df = pd.read_csv(file_name)\n",
    "#     dataframes.append(df)\n",
    "\n",
    "# # Concatenate all DataFrames into a single DataFrame\n",
    "# combined_df = pd.concat(dataframes, ignore_index=True)\n",
    "# # Save the combined DataFrame to a CSV file\n",
    "# combined_df.to_csv('Simargl2022_combined_dataset.csv', index=False)\n",
    "\n",
    "# Load the dataset\n",
    "df = pd.read_csv('/home/ibibers@ads.iu.edu/IDS_Datasets/Combined_datasets/Simargl2022_combined_dataset.csv')\n",
    "\n",
    "# Drop duplicates: same observation but multiple occurences\n",
    "main_df_1 = df.drop_duplicates(keep='first')\n",
    "\n",
    "# Drop columns that have just one unique value, the model wont learn form columns like this.\n",
    "one_value = main_df_1.columns[main_df_1.nunique() == 1]\n",
    "main_df_2 = main_df_1.drop(columns = one_value, axis=1)\n"
   ]
  },
  {
   "cell_type": "code",
   "execution_count": 10,
   "metadata": {},
   "outputs": [
    {
     "name": "stdout",
     "output_type": "stream",
     "text": [
      " Extract subsample of data: \n",
      "ALERT\n",
      "Denial of Service    5138973\n",
      "Port Scanning        4170194\n",
      "Malware                  571\n",
      "Name: count, dtype: int64\n"
     ]
    }
   ],
   "source": [
    "\n",
    "# Extract subsample of data\n",
    "print (\" Extract subsample of data: \")\n",
    "print (main_df_2['ALERT'].value_counts())\n"
   ]
  },
  {
   "cell_type": "code",
   "execution_count": 11,
   "metadata": {},
   "outputs": [],
   "source": [
    "# git the head of the data frame to know the columns\n",
    "# print (main_df_2.head())\n"
   ]
  },
  {
   "cell_type": "code",
   "execution_count": 6,
   "metadata": {},
   "outputs": [
    {
     "name": "stdout",
     "output_type": "stream",
     "text": [
      "<class 'pandas.core.frame.DataFrame'>\n",
      "Index: 24359068 entries, 0 to 30148257\n",
      "Data columns (total 28 columns):\n",
      " #   Column                      Dtype  \n",
      "---  ------                      -----  \n",
      " 0   FLOW_ID                     int64  \n",
      " 1   PROTOCOL_MAP                object \n",
      " 2   L4_SRC_PORT                 int64  \n",
      " 3   IPV4_SRC_ADDR               object \n",
      " 4   L4_DST_PORT                 int64  \n",
      " 5   IPV4_DST_ADDR               object \n",
      " 6   FIRST_SWITCHED              int64  \n",
      " 7   FLOW_DURATION_MILLISECONDS  int64  \n",
      " 8   LAST_SWITCHED               int64  \n",
      " 9   PROTOCOL                    int64  \n",
      " 10  TCP_FLAGS                   int64  \n",
      " 11  TCP_WIN_MAX_IN              int64  \n",
      " 12  TCP_WIN_MAX_OUT             int64  \n",
      " 13  TCP_WIN_MIN_IN              int64  \n",
      " 14  TCP_WIN_MIN_OUT             int64  \n",
      " 15  TCP_WIN_MSS_IN              int64  \n",
      " 16  TCP_WIN_SCALE_IN            int64  \n",
      " 17  TCP_WIN_SCALE_OUT           int64  \n",
      " 18  SRC_TOS                     int64  \n",
      " 19  DST_TOS                     int64  \n",
      " 20  TOTAL_FLOWS_EXP             int64  \n",
      " 21  IN_BYTES                    int64  \n",
      " 22  IN_PKTS                     int64  \n",
      " 23  OUT_BYTES                   int64  \n",
      " 24  OUT_PKTS                    int64  \n",
      " 25  ALERT                       object \n",
      " 26  ANALYSIS_TIMESTAMP          int64  \n",
      " 27  ANOMALY                     float64\n",
      "dtypes: float64(1), int64(23), object(4)\n",
      "memory usage: 5.3+ GB\n",
      "None\n"
     ]
    }
   ],
   "source": [
    "\n",
    "print (main_df_2.info())"
   ]
  },
  {
   "cell_type": "code",
   "execution_count": 12,
   "metadata": {},
   "outputs": [],
   "source": [
    "# Fill nan values\n",
    "# main_df_2['Flow Bytes/s'] = main_df_2['Flow Bytes/s'].fillna(main_df_2['Flow Bytes/s'].mean())\n",
    "# sample_df_1 = sample_df_1.fillna(main_df_2.mean())\n",
    "\n",
    "# Calculate the mean for each column in main_df_2\n",
    "mean_values = main_df_2.mean()\n"
   ]
  },
  {
   "cell_type": "code",
   "execution_count": null,
   "metadata": {},
   "outputs": [],
   "source": [
    "# Iterate over columns in sample_df_1\n",
    "for column in main_df_2.columns:\n",
    "    # Check if the column has missing values\n",
    "    if main_df_2[column].insull().any():\n",
    "        # Fill missing values with the mean of the corresponding column from main_df_2\n",
    "        main_df_2[column] = main_df_2[column].fillna(mean_values[column])\n",
    "\n"
   ]
  },
  {
   "cell_type": "code",
   "execution_count": null,
   "metadata": {},
   "outputs": [],
   "source": [
    "# Remove leading space character in all feature names\n",
    "main_df_2.rename(columns=lambda x: x.lstrip(), inplace=True)\n",
    "\n",
    "sample_df_1 = main_df_2.copy()\n",
    "# Extract subsample of data\n",
    "print (\" Extract subsample of data: \")\n",
    "print (sample_df_1['ALERT'].value_counts())"
   ]
  },
  {
   "cell_type": "code",
   "execution_count": null,
   "metadata": {},
   "outputs": [],
   "source": [
    "# Save the updated DataFrame back to the CSV file\n",
    "sample_df_1.to_csv('Simargl2022_AfterThe_prpration', index=False)"
   ]
  },
  {
   "cell_type": "code",
   "execution_count": null,
   "metadata": {},
   "outputs": [],
   "source": [
    "# Label encoding to convert categorical data to numerical data\n",
    "le = LabelEncoder()\n",
    "sample_df_1['ALERT'] = le.fit_transform(sample_df_1['ALERT'])\n",
    "\n",
    "# Extract subsample of data\n",
    "print (\" Extract subsample of data: \")\n",
    "print (sample_df_1['ALERT'].value_counts())"
   ]
  },
  {
   "cell_type": "code",
   "execution_count": null,
   "metadata": {},
   "outputs": [],
   "source": [
    "\n",
    "\n",
    "print(\"Sampled Dataset Overview:\")\n",
    "\n",
    "# feature_names = list(sample_df_1.columns[:-2]) \n",
    "# target_names = ['Benign', 'Bot', 'DDoS', 'DoS GoldenEye', 'DoS Hulk', 'DoS Slowhttp', 'DoS slowloris', 'FTP-Patator', 'Heartbleed', 'Infiltration', 'PortScan', 'SSH-Patator', 'Web Attack - Brute Force', 'Web Attack - Sql Injection', 'Web Attack - XSS']\n",
    "\n",
    "dropped_df = ['ALERT', 'Flow Packets/s', 'Flow Bytes/s']\n",
    "X = sample_df_1.drop( dropped_df, axis=1) \n",
    "y = sample_df_1['ALERT']  \n"
   ]
  },
  {
   "cell_type": "code",
   "execution_count": null,
   "metadata": {},
   "outputs": [],
   "source": [
    "\n",
    "# Initial train test split set and split the dataset into training and testing sets\n",
    "X_train, X_test, y_train, y_test = train_test_split(X, y, test_size=0.2, random_state=42, stratify=y)\n",
    "\n",
    "# Initialize the Decision Tree model\n",
    "dt_model = DecisionTreeClassifier()\n",
    "\n",
    "# Print the number of samples before training\n",
    "print(\"Number of samples before training:\", len(X_train))"
   ]
  },
  {
   "cell_type": "code",
   "execution_count": null,
   "metadata": {},
   "outputs": [],
   "source": [
    "# Train the Decision Tree model\n",
    "dt_model.fit(X_train, y_train)\n",
    "\n",
    "# Print the number of samples after training\n",
    "print(\"Number of samples after training:\", len(X_train))\n"
   ]
  },
  {
   "cell_type": "code",
   "execution_count": null,
   "metadata": {},
   "outputs": [],
   "source": [
    "\n",
    "# Make predictions on the test set\n",
    "y_pred_encoded = dt_model.predict(X_test)\n"
   ]
  },
  {
   "cell_type": "code",
   "execution_count": null,
   "metadata": {},
   "outputs": [],
   "source": [
    "\n",
    "# Use inverse_transform to get original labels\n",
    "y_pred = le.inverse_transform(y_pred_encoded)\n",
    "y_test_labels = le.inverse_transform(y_test)\n",
    "\n",
    "# Create a mapping between numerical labels and their corresponding real labels\n",
    "label_mapping = {label: le.inverse_transform([label])[0] for label in set(y_test)}\n",
    "print (label_mapping)\n"
   ]
  },
  {
   "cell_type": "code",
   "execution_count": null,
   "metadata": {},
   "outputs": [],
   "source": [
    "# Evaluate the model\n",
    "accuracy = accuracy_score(y_test_labels, y_pred)\n",
    "print(f\"Accuracy: {accuracy}\")\n"
   ]
  },
  {
   "cell_type": "code",
   "execution_count": null,
   "metadata": {},
   "outputs": [],
   "source": [
    "#  Classificaiton Report \n",
    "print(\"\\nClassification Report:\")\n",
    "print(classification_report(y_test_labels, y_pred))\n",
    "\n",
    "# Print classification report with real label names\n",
    "# print(\"\\nClassification Report:\")\n",
    "# print(classification_report(y_test_labels, y_pred, target_names=[label_mapping[label] for label in range(len(label_mapping))]))\n"
   ]
  },
  {
   "cell_type": "code",
   "execution_count": null,
   "metadata": {},
   "outputs": [],
   "source": [
    "\n",
    "# # Confusion Matrix \n",
    "# conf_mat = confusion_matrix(y_test_labels, y_pred , labels=le.classes_)\n",
    "\n",
    "# # Plotting the Confusion Matrix \n",
    "# plt.figure(figsize=(9, 12))\n",
    "# sns.heatmap(conf_mat, annot= True, fmt=\"d\", cmap=\"Blues\", cbar=False)\n",
    "# plt.title('Confusion Matrix')\n",
    "# plt.xlabel('Predicted')\n",
    "# plt.ylabel('Actual')\n",
    "# plt.show()\n",
    "\n",
    "\n",
    "# Confusion matrix with string labels\n",
    "conf_mat = confusion_matrix(y_test_labels, y_pred, labels=le.classes_)\n",
    "\n",
    "# Plotting the Confusion Matrix\n",
    "plt.figure(figsize=(9, 9))\n",
    "sns.heatmap(conf_mat, annot=True, fmt=\"d\", cmap=\"Blues\", cbar=False, xticklabels=le.classes_.tolist(), yticklabels=le.classes_.tolist())\n",
    "plt.title('Confusion Matrix')\n",
    "plt.xlabel('Predicted')\n",
    "plt.ylabel('Actual')\n",
    "plt.show()\n",
    "\n"
   ]
  },
  {
   "cell_type": "code",
   "execution_count": null,
   "metadata": {},
   "outputs": [],
   "source": [
    "# importances of features in the decision tree model \n",
    "importance = dt_model.feature_importances_\n",
    "importance_dict = dict(zip(X.columns.values, importance))\n",
    "sorted_importance = dict(sorted(importance_dict.items(), key=lambda x: x[1], reverse=True))\n",
    "\n",
    "plt.figure(figsize=(7, 13))\n",
    "sns.barplot(x=list(sorted_importance.values()), y=list(sorted_importance.keys()), palette='cubehelix')\n",
    "plt.xlabel('Importance Value')\n",
    "plt.ylabel('Feature Name')\n",
    "plt.title('Feature Importance in Random Forest Classifier')\n",
    "plt.show()\n",
    "\n",
    "\n"
   ]
  }
 ],
 "metadata": {
  "kernelspec": {
   "display_name": ".venv",
   "language": "python",
   "name": "python3"
  },
  "language_info": {
   "codemirror_mode": {
    "name": "ipython",
    "version": 3
   },
   "file_extension": ".py",
   "mimetype": "text/x-python",
   "name": "python",
   "nbconvert_exporter": "python",
   "pygments_lexer": "ipython3",
   "version": "3.9.18"
  }
 },
 "nbformat": 4,
 "nbformat_minor": 2
}
