{
 "cells": [
  {
   "cell_type": "code",
   "execution_count": 1,
   "metadata": {},
   "outputs": [
    {
     "name": "stderr",
     "output_type": "stream",
     "text": [
      "/tmp/ipykernel_186464/1758524713.py:10: DeprecationWarning: \n",
      "Pyarrow will become a required dependency of pandas in the next major release of pandas (pandas 3.0),\n",
      "(to allow more performant data types, such as the Arrow string type, and better interoperability with other libraries)\n",
      "but was not found to be installed on your system.\n",
      "If this would cause problems for you,\n",
      "please provide us feedback at https://github.com/pandas-dev/pandas/issues/54466\n",
      "        \n",
      "  import pandas as pd\n"
     ]
    },
    {
     "name": "stdout",
     "output_type": "stream",
     "text": [
      " Extract subsample of data: \n",
      "Label\n",
      "BENIGN                        2096484\n",
      "DoS Hulk                       172849\n",
      "DDoS                           128016\n",
      "PortScan                        90819\n",
      "DoS GoldenEye                   10286\n",
      "FTP-Patator                      5933\n",
      "DoS slowloris                    5385\n",
      "DoS Slowhttptest                 5228\n",
      "SSH-Patator                      3219\n",
      "Bot                              1953\n",
      "Web Attack � Brute Force         1470\n",
      "Web Attack � XSS                  652\n",
      "Infiltration                       36\n",
      "Web Attack � Sql Injection         21\n",
      "Heartbleed                         11\n",
      "Name: count, dtype: int64\n"
     ]
    }
   ],
   "source": [
    "# -*- coding: utf-8 -*- \n",
    "# This code is written in Python 3.7. To install the required packages, run the following commands:\n",
    "# pip install pandas numpy matplotlib seaborn scikit-learn sympy\n",
    "# This code is applicable to the CICIDS2017 dataset. \n",
    "# implemented Decision Tree Classifier. \n",
    "\n",
    "from matplotlib import table\n",
    "import pandas as pd\n",
    "from sklearn.preprocessing import LabelEncoder\n",
    "from sklearn.model_selection import train_test_split\n",
    "import matplotlib.pyplot as plt\n",
    "from sklearn.tree import DecisionTreeClassifier, plot_tree\n",
    "from sklearn.metrics import accuracy_score, classification_report\n",
    "from sympy import plot_implicit\n",
    "from sklearn.metrics import confusion_matrix\n",
    "import seaborn as sns\n",
    "\n",
    "\n",
    "# Load the dataset\n",
    "df = pd.read_csv('/home/ibibers@ads.iu.edu/Intrusion_Detection_System_IDS/Advanced_Ensemble_techniques/Stacking/CICIDS2017_combined_dataset.csv')\n",
    "\n",
    "# Drop duplicates: same observation but multiple occurences\n",
    "main_df_1 = df.drop_duplicates(keep='first')\n",
    "\n",
    "# Drop columns that have just one unique value, the model wont learn form columns like this.\n",
    "one_value = main_df_1.columns[main_df_1.nunique() == 1]\n",
    "main_df_2 = main_df_1.drop(columns = one_value, axis=1)\n",
    "\n",
    "# Fill nan values\n",
    "main_df_2['Flow Bytes/s'] = main_df_2['Flow Bytes/s'].fillna(main_df_2['Flow Bytes/s'].mean())\n",
    "\n",
    "# Remove leading space character in all feature names\n",
    "main_df_2.rename(columns=lambda x: x.lstrip(), inplace=True)\n",
    "\n",
    "sample_df_1 = main_df_2.copy()\n",
    "# Extract subsample of data\n",
    "print (\" Extract subsample of data: \")\n",
    "print (sample_df_1['Label'].value_counts())\n"
   ]
  },
  {
   "cell_type": "code",
   "execution_count": 2,
   "metadata": {},
   "outputs": [
    {
     "name": "stdout",
     "output_type": "stream",
     "text": [
      " Extract subsample of data: \n",
      "Label\n",
      "0     2096484\n",
      "4      172849\n",
      "2      128016\n",
      "10      90819\n",
      "3       10286\n",
      "7        5933\n",
      "6        5385\n",
      "5        5228\n",
      "11       3219\n",
      "1        1953\n",
      "12       1470\n",
      "14        652\n",
      "9          36\n",
      "13         21\n",
      "8          11\n",
      "Name: count, dtype: int64\n"
     ]
    }
   ],
   "source": [
    "# Label encoding to convert categorical data to numerical data\n",
    "le = LabelEncoder()\n",
    "sample_df_1['Label'] = le.fit_transform(sample_df_1['Label'])\n",
    "\n",
    "# Extract subsample of data\n",
    "print (\" Extract subsample of data: \")\n",
    "print (sample_df_1['Label'].value_counts())"
   ]
  },
  {
   "cell_type": "code",
   "execution_count": 3,
   "metadata": {},
   "outputs": [
    {
     "name": "stdout",
     "output_type": "stream",
     "text": [
      "Sampled Dataset Overview:\n"
     ]
    }
   ],
   "source": [
    "# Take a 40% random sample of the dataset\n",
    "# sample_df_1 = sample_df_1.sample(frac=1, random_state=42)\n",
    "\n",
    "print(\"Sampled Dataset Overview:\")\n",
    "\n",
    "# feature_names = list(sample_df_1.columns[:-2]) \n",
    "# target_names = ['Benign', 'Bot', 'DDoS', 'DoS GoldenEye', 'DoS Hulk', 'DoS Slowhttp', 'DoS slowloris', 'FTP-Patator', 'Heartbleed', 'Infiltration', 'PortScan', 'SSH-Patator', 'Web Attack - Brute Force', 'Web Attack - Sql Injection', 'Web Attack - XSS']\n",
    "\n",
    "dropped_df = ['Label', 'Flow Packets/s', 'Flow Bytes/s']\n",
    "X = sample_df_1.drop( dropped_df, axis=1) \n",
    "y = sample_df_1['Label']  \n"
   ]
  },
  {
   "cell_type": "code",
   "execution_count": 4,
   "metadata": {},
   "outputs": [
    {
     "name": "stdout",
     "output_type": "stream",
     "text": [
      "Number of samples before training: 2017889\n"
     ]
    }
   ],
   "source": [
    "\n",
    "# Initial train test split set and split the dataset into training and testing sets\n",
    "X_train, X_test, y_train, y_test = train_test_split(X, y, test_size=0.2, random_state=42, stratify=y)\n",
    "\n",
    "# Initialize the Decision Tree model\n",
    "dt_model = DecisionTreeClassifier()\n",
    "\n",
    "# Print the number of samples before training\n",
    "print(\"Number of samples before training:\", len(X_train))"
   ]
  },
  {
   "cell_type": "code",
   "execution_count": 7,
   "metadata": {},
   "outputs": [
    {
     "name": "stdout",
     "output_type": "stream",
     "text": [
      "Model: \"sequential_1\"\n",
      "_________________________________________________________________\n",
      " Layer (type)                Output Shape              Param #   \n",
      "=================================================================\n",
      " dense_3 (Dense)             (None, 128)               8832      \n",
      "                                                                 \n",
      " dropout_2 (Dropout)         (None, 128)               0         \n",
      "                                                                 \n",
      " dense_4 (Dense)             (None, 64)                8256      \n",
      "                                                                 \n",
      " dropout_3 (Dropout)         (None, 64)                0         \n",
      "                                                                 \n",
      " dense_5 (Dense)             (None, 15)                975       \n",
      "                                                                 \n",
      "=================================================================\n",
      "Total params: 18063 (70.56 KB)\n",
      "Trainable params: 18063 (70.56 KB)\n",
      "Non-trainable params: 0 (0.00 Byte)\n",
      "_________________________________________________________________\n",
      "Epoch 1/10\n",
      "63060/63060 [==============================] - 239s 4ms/step - loss: 0.0987 - accuracy: 0.9669 - val_loss: 0.0548 - val_accuracy: 0.9761\n",
      "Epoch 2/10\n",
      "63060/63060 [==============================] - 238s 4ms/step - loss: 0.0803 - accuracy: 0.9720 - val_loss: 0.0533 - val_accuracy: 0.9787\n",
      "Epoch 3/10\n",
      "63060/63060 [==============================] - 238s 4ms/step - loss: 0.0806 - accuracy: 0.9730 - val_loss: 0.0539 - val_accuracy: 0.9786\n",
      "Epoch 4/10\n",
      "63060/63060 [==============================] - 238s 4ms/step - loss: 0.0868 - accuracy: 0.9736 - val_loss: 0.0487 - val_accuracy: 0.9783\n",
      "Epoch 5/10\n",
      "63060/63060 [==============================] - 238s 4ms/step - loss: 0.0832 - accuracy: 0.9738 - val_loss: 0.0543 - val_accuracy: 0.9769\n",
      "Epoch 6/10\n",
      "63060/63060 [==============================] - 238s 4ms/step - loss: 0.0893 - accuracy: 0.9742 - val_loss: 0.0542 - val_accuracy: 0.9787\n",
      "Epoch 7/10\n",
      "63060/63060 [==============================] - 238s 4ms/step - loss: 0.0959 - accuracy: 0.9742 - val_loss: 0.0541 - val_accuracy: 0.9787\n",
      "Epoch 8/10\n",
      "63060/63060 [==============================] - 230s 4ms/step - loss: 0.0948 - accuracy: 0.9743 - val_loss: 0.0499 - val_accuracy: 0.9776\n",
      "Epoch 9/10\n",
      "63060/63060 [==============================] - 238s 4ms/step - loss: 0.1062 - accuracy: 0.9744 - val_loss: 0.0519 - val_accuracy: 0.9790\n",
      "Epoch 10/10\n",
      "63060/63060 [==============================] - 239s 4ms/step - loss: 0.1062 - accuracy: 0.9746 - val_loss: 0.0483 - val_accuracy: 0.9798\n",
      "15765/15765 [==============================] - 42s 3ms/step - loss: 0.0483 - accuracy: 0.9798\n",
      "Accuracy: 0.98\n"
     ]
    },
    {
     "data": {
      "image/png": "[encoded data removed]",
      "text/plain": [
       "<Figure size 1000x600 with 1 Axes>"
      ]
     },
     "metadata": {},
     "output_type": "display_data"
    }
   ],
   "source": [
    "import tensorflow as tf\n",
    "from keras import layers, models\n",
    "from sklearn.preprocessing import StandardScaler\n",
    "\n",
    "# Standardize the input features\n",
    "scaler = StandardScaler()\n",
    "X_train_scaled = scaler.fit_transform(X_train)\n",
    "X_test_scaled = scaler.transform(X_test)\n",
    "\n",
    "# Define the neural network model\n",
    "model = models.Sequential([\n",
    "    layers.InputLayer(input_shape=(X_train.shape[1],)),  # Input layer with the number of features\n",
    "    layers.Dense(128, activation='relu'),\n",
    "    layers.Dropout(0.5),\n",
    "    layers.Dense(64, activation='relu'),\n",
    "    layers.Dropout(0.5),\n",
    "    layers.Dense(len(set(y)), activation='softmax')  # Output layer with the number of classes\n",
    "])\n",
    "\n",
    "# Compile the model\n",
    "model.compile(optimizer='adam', loss='sparse_categorical_crossentropy', metrics=['accuracy'])\n",
    "\n",
    "# Print the model summary\n",
    "model.summary()\n",
    "\n",
    "# Train the neural network\n",
    "history = model.fit(X_train_scaled, y_train, epochs=10, batch_size=32, validation_data=(X_test_scaled, y_test))\n",
    "\n",
    "# Evaluate the model on the test set\n",
    "_, accuracy = model.evaluate(X_test_scaled, y_test)\n",
    "print(f\"Accuracy: {accuracy:.2f}\")\n",
    "\n",
    "# Plot training history\n",
    "plt.figure(figsize=(10, 6))\n",
    "plt.plot(history.history['accuracy'], label='Train Accuracy')\n",
    "plt.plot(history.history['val_accuracy'], label='Validation Accuracy')\n",
    "plt.xlabel('Epochs')\n",
    "plt.ylabel('Accuracy')\n",
    "plt.legend()\n",
    "plt.show()\n"
   ]
  }
 ],
 "metadata": {
  "kernelspec": {
   "display_name": ".venv",
   "language": "python",
   "name": "python3"
  },
  "language_info": {
   "codemirror_mode": {
    "name": "ipython",
    "version": 3
   },
   "file_extension": ".py",
   "mimetype": "text/x-python",
   "name": "python",
   "nbconvert_exporter": "python",
   "pygments_lexer": "ipython3",
   "version": "3.9.18"
  }
 },
 "nbformat": 4,
 "nbformat_minor": 2
}
