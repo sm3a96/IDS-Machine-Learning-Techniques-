{
 "cells": [
  {
   "cell_type": "code",
   "execution_count": 41,
   "metadata": {},
   "outputs": [],
   "source": [
    "# -*- coding: utf-8 -*- \n",
    "# @Time : 2024/2/5 16:00\n",
    "# @Author : Ismail Bibers\n",
    "# This code is written in Python 3.7. To install the required packages, run the following commands:\n",
    "# pip install pandas numpy matplotlib seaborn scikit-learn sympy\n",
    "# This code is applicable to the Simargl 2022 dataset. \n",
    "# implemented Advanced Ensemble techniques: Blending\n",
    "\n",
    "\n",
    "import pandas as pd\n",
    "from sklearn.model_selection import train_test_split\n",
    "import matplotlib.pyplot as plt\n",
    "\n",
    "import numpy as np\n",
    "from sklearn.ensemble import RandomForestClassifier\n",
    "from sklearn.neural_network import MLPClassifier\n",
    "from sklearn.linear_model import LogisticRegression\n",
    "from sklearn.tree import DecisionTreeClassifier\n",
    "from sklearn.metrics import accuracy_score, classification_report\n",
    "from sklearn.metrics import confusion_matrix\n",
    "import seaborn as sns\n",
    "\n",
    "# Load the dataset\n",
    "df = pd.read_csv('/home/ibibers@ads.iu.edu/IDS_Datasets/Combined_datasets/Simargl2022_combined_dataset.csv')\n",
    "\n",
    "# Drop duplicates: same observation but multiple occurences\n",
    "main_df_1 = df.drop_duplicates(keep='first')\n",
    "\n",
    "# Drop columns that have just one unique value, the model wont learn form columns like this.\n",
    "one_value = main_df_1.columns[main_df_1.nunique() == 1]\n",
    "main_df_2 = main_df_1.drop(columns = one_value, axis=1)"
   ]
  },
  {
   "cell_type": "code",
   "execution_count": null,
   "metadata": {},
   "outputs": [],
   "source": [
    "# Take random samples of the dataset\n",
    "# sample_df_1 = main_df_2.sample(frac=0.6, random_state=42)\n",
    "sample_df_1 = main_df_2.copy()"
   ]
  },
  {
   "cell_type": "code",
   "execution_count": null,
   "metadata": {},
   "outputs": [],
   "source": [
    "# Extract subsample of data\n",
    "print (\" Extract subsample of data: \")\n",
    "print(sample_df_1['ALERT'].value_counts())"
   ]
  },
  {
   "cell_type": "code",
   "execution_count": null,
   "metadata": {},
   "outputs": [],
   "source": [
    "# Git the features\n",
    "# print (main_df_2.head())"
   ]
  },
  {
   "cell_type": "code",
   "execution_count": null,
   "metadata": {},
   "outputs": [],
   "source": [
    "# sample_df_1.info()"
   ]
  },
  {
   "cell_type": "code",
   "execution_count": null,
   "metadata": {},
   "outputs": [],
   "source": [
    "# # To see the features that are need to be encoded \"Which are not numerical\"\n",
    "# categorical_columns = sample_df_1.select_dtypes(include=['object']).columns\n",
    "# print(\"Categorical Columns:\", categorical_columns)"
   ]
  },
  {
   "cell_type": "code",
   "execution_count": null,
   "metadata": {},
   "outputs": [],
   "source": [
    "# # Count the numner of the novsalues in the categorical columns\n",
    "# print(sample_df_1.isna().sum())"
   ]
  },
  {
   "cell_type": "code",
   "execution_count": null,
   "metadata": {},
   "outputs": [],
   "source": [
    "# # Print the columns with leading spaces, if any\n",
    "# columns_with_leading_spaces = [col for col in main_df_2.columns if col.startswith(' ')]\n",
    "\n",
    "# if columns_with_leading_spaces:\n",
    "#     print(\"Columns with leading spaces:\", columns_with_leading_spaces)\n",
    "# else:\n",
    "#     print(\"No columns with leading spaces found.\")\n",
    "\n",
    "# # Remove leading space character in all feature names\n",
    "# # main_df_2.rename(columns=lambda x: x.lstrip(), inplace=True)\n"
   ]
  },
  {
   "cell_type": "code",
   "execution_count": null,
   "metadata": {},
   "outputs": [],
   "source": [
    "# sample_df_1 = sample_df_1.drop(['ANOMALY', 'IPV4_SRC_ADDR'] , axis=1)\n",
    "median_anomaly = sample_df_1['ANOMALY'].median()\n",
    "sample_df_1['ANOMALY'].fillna(median_anomaly, inplace=True)"
   ]
  },
  {
   "cell_type": "code",
   "execution_count": null,
   "metadata": {},
   "outputs": [],
   "source": [
    "sample_df_1['ALERT'].fillna('Normal', inplace=True)"
   ]
  },
  {
   "cell_type": "code",
   "execution_count": null,
   "metadata": {},
   "outputs": [],
   "source": [
    "from sklearn.preprocessing import OrdinalEncoder\n",
    "\n",
    "categorical_columns = ['PROTOCOL_MAP', 'IPV4_DST_ADDR', 'IPV4_SRC_ADDR']\n",
    "\n",
    "# Create a copy of the original DataFrame to avoid modifying the original data\n",
    "df_encoded = sample_df_1.copy()\n",
    "\n",
    "# Initialize the OrdinalEncoder\n",
    "ordinal_encoder = OrdinalEncoder()\n",
    "\n",
    "# Fit and transform the categorical columns\n",
    "df_encoded[categorical_columns] = ordinal_encoder.fit_transform(sample_df_1[categorical_columns])"
   ]
  },
  {
   "cell_type": "code",
   "execution_count": null,
   "metadata": {},
   "outputs": [],
   "source": [
    "# # Fill nan values\n",
    "# print(sample_df_1.isna().sum())"
   ]
  },
  {
   "cell_type": "code",
   "execution_count": null,
   "metadata": {},
   "outputs": [],
   "source": [
    "print(\"Sampled Dataset Overview:\")\n",
    "\n",
    "dropped_df = ['ALERT']\n",
    "X = df_encoded.drop(dropped_df, axis=1)\n",
    "y = df_encoded['ALERT']"
   ]
  },
  {
   "cell_type": "code",
   "execution_count": null,
   "metadata": {},
   "outputs": [],
   "source": [
    "# Initial train test split set and split the dataset into training and testing sets\n",
    "X_train, X_test, y_train, y_test = train_test_split(X, y, test_size=0.2, random_state=42, stratify=y)\n",
    "\n",
    "# the base models\n",
    "rf_model = RandomForestClassifier(random_state=42)\n",
    "mlpc_model = MLPClassifier(random_state=42)\n",
    "Lr_model = LogisticRegression(random_state=42)\n",
    "dst_model = DecisionTreeClassifier(random_state=42)\n",
    "\n",
    "# Print the number of samples before training\n",
    "print(\"Number of samples before training:\", len(X_train))"
   ]
  },
  {
   "cell_type": "code",
   "execution_count": null,
   "metadata": {},
   "outputs": [],
   "source": [
    "# Train base models on the training set\n",
    "rf_model.fit(X_train, y_train)\n",
    "mlpc_model.fit(X_train, y_train)\n",
    "Lr_model.fit(X_train, y_train)\n",
    "dst_model.fit(X_train, y_train)"
   ]
  },
  {
   "cell_type": "code",
   "execution_count": null,
   "metadata": {},
   "outputs": [],
   "source": [
    "# predictions on the test set\n",
    "pred1 = rf_model.predict(X_test)\n",
    "pred2 = mlpc_model.predict(X_test)\n",
    "pred3 = Lr_model.predict(X_test)\n",
    "pred4 = dst_model.predict(X_test)"
   ]
  },
  {
   "cell_type": "code",
   "execution_count": null,
   "metadata": {},
   "outputs": [],
   "source": [
    "# here is the blending part starts, create a new dataset with the predictions of base models\n",
    "blend_X_train = np.column_stack((pred1, pred2, pred3, pred4))\n",
    "\n",
    "# Define a meta-model for blending\n",
    "# meta_model = LogisticRegression(random_state=42)\n",
    "meta_model = DecisionTreeClassifier(random_state=42)\n",
    "\n",
    "# Train the meta-model on the blended predictions\n",
    "meta_model.fit(blend_X_train, y_test)\n",
    "\n",
    "# Now, let's make predictions on the test set using the base models\n",
    "base_rf_model_pred = rf_model.predict(X_test)\n",
    "base_mlpc_model_pred = mlpc_model.predict(X_test)\n",
    "base_Lr_model_pred = Lr_model.predict(X_test)\n",
    "base_dst_model_pred = dst_model.predict(X_test)\n",
    "\n",
    "# Create a new dataset with the predictions of base models for the meta-model\n",
    "blend_X_test = np.column_stack(\n",
    "    (base_rf_model_pred, base_mlpc_model_pred, base_Lr_model_pred, base_dst_model_pred))\n",
    "\n",
    "# predictions on the test set using the meta-model\n",
    "y_pred_encoded = meta_model.predict(blend_X_test)"
   ]
  },
  {
   "cell_type": "code",
   "execution_count": null,
   "metadata": {},
   "outputs": [],
   "source": [
    "# Evaluate the model\n",
    "accuracy = accuracy_score(y_test, y_pred_encoded)\n",
    "print(f\"Accuracy: {accuracy}\")"
   ]
  },
  {
   "cell_type": "code",
   "execution_count": null,
   "metadata": {},
   "outputs": [],
   "source": [
    "#  Classificaiton Report \n",
    "print(\"\\nClassification Report:\")\n",
    "print(classification_report(y_test, y_pred_encoded))\n"
   ]
  },
  {
   "cell_type": "code",
   "execution_count": null,
   "metadata": {},
   "outputs": [],
   "source": [
    "import numpy as np\n",
    "# Confusion matrix with string labels\n",
    "conf_mat = confusion_matrix(y_test, y_pred_encoded)\n",
    "\n",
    "# Get unique class labels from y_test and y_pred_encoded\n",
    "unique_labels = np.unique(np.concatenate((y_test, y_pred_encoded)))\n",
    "\n",
    "# Plotting the Confusion Matrix with class labels\n",
    "plt.figure(figsize=(6, 6))\n",
    "sns.heatmap(conf_mat, annot=True, fmt=\"d\", cmap=\"Blues\", cbar=False,\n",
    "            xticklabels=unique_labels, yticklabels=unique_labels)\n",
    "plt.title('Confusion Matrix')\n",
    "plt.xlabel('Predicted')\n",
    "plt.ylabel('Actual')\n",
    "plt.show()"
   ]
  },
  {
   "cell_type": "code",
   "execution_count": null,
   "metadata": {},
   "outputs": [],
   "source": [
    "\n",
    "# Extract feature importances from base models\n",
    "base_models_importances = {}\n",
    "\n",
    "for i, model in enumerate([rf_model, Lr_model, dst_model, mlpc_model]):\n",
    "    if hasattr(model, 'feature_importances_'):\n",
    "        base_models_importances[f'base_model_{i}'] = model.feature_importances_\n",
    "\n",
    "# Create a DataFrame for visualization\n",
    "importance_df = pd.DataFrame(base_models_importances, index=X.columns)\n",
    "\n",
    "# Calculate average feature importance across base models\n",
    "average_importance = importance_df.mean(axis=1)\n",
    "\n",
    "# Sort features by average importance\n",
    "sorted_importance = average_importance.sort_values(ascending=False)\n",
    "\n",
    "# Visualize the feature importances\n",
    "plt.figure(figsize=(14, 20))\n",
    "sns.barplot(x=sorted_importance.values,\n",
    "            y=sorted_importance.index, palette='mako')\n",
    "plt.xlabel('Average Importance Value')\n",
    "plt.ylabel('Feature Name')\n",
    "plt.title('Average Feature Importance in Blending Model')\n",
    "plt.show()"
   ]
  }
 ],
 "metadata": {
  "kernelspec": {
   "display_name": ".venv",
   "language": "python",
   "name": "python3"
  },
  "language_info": {
   "codemirror_mode": {
    "name": "ipython",
    "version": 3
   },
   "file_extension": ".py",
   "mimetype": "text/x-python",
   "name": "python",
   "nbconvert_exporter": "python",
   "pygments_lexer": "ipython3",
   "version": "3.9.18"
  }
 },
 "nbformat": 4,
 "nbformat_minor": 2
}
