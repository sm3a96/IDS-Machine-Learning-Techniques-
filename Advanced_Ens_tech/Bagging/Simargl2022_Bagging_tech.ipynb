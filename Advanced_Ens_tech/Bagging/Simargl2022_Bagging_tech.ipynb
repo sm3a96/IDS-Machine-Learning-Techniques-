{
 "cells": [
  {
   "cell_type": "code",
   "execution_count": null,
   "metadata": {},
   "outputs": [],
   "source": [
    "# -*- coding: utf-8 -*- \n",
    "# This code is written in Python 3.7. To install the required packages, run the following commands:\n",
    "# pip install pandas numpy matplotlib seaborn scikit-learn sympy\n",
    "# This code is applicable to the Simargl 2022 dataset. \n",
    "# implemented Advanced Ensemble techniques: Bagging\n",
    "\n",
    "import pandas as pd\n",
    "from sklearn.model_selection import train_test_split\n",
    "import matplotlib.pyplot as plt\n",
    "from sklearn.tree import DecisionTreeClassifier\n",
    "from sklearn.linear_model import LogisticRegression\n",
    "from sklearn.neural_network import MLPClassifier\n",
    "from sklearn.ensemble import RandomForestClassifier\n",
    "from sklearn.ensemble import BaggingClassifier\n",
    "from sklearn.metrics import accuracy_score, classification_report\n",
    "from sklearn.metrics import confusion_matrix\n",
    "import seaborn as sns\n",
    "import tensorflow as tf\n",
    "import numpy as np\n",
    "from sklearn.preprocessing import LabelEncoder"
   ]
  },
  {
   "cell_type": "code",
   "execution_count": null,
   "metadata": {},
   "outputs": [],
   "source": [
    "# Load the cleaned Simargl 2022 dataset\n",
    "df = pd.read_csv(\n",
    "    '/home/ibibers@ads.iu.edu/IDS_Datasets/Combined_datasets/Simargl_cleaned_dataset.csv')\n",
    "\n",
    "tf.keras.backend.clear_session()"
   ]
  },
  {
   "cell_type": "code",
   "execution_count": null,
   "metadata": {},
   "outputs": [],
   "source": [
    "# Extract subsample of data\n",
    "print(\" Extract subsample of data: \")\n",
    "print(df['ALERT'].value_counts())"
   ]
  },
  {
   "cell_type": "code",
   "execution_count": null,
   "metadata": {},
   "outputs": [],
   "source": [
    "dropped_df = ['ALERT']\n",
    "X = df.drop(dropped_df, axis=1)\n",
    "y = df['ALERT']\n",
    "\n",
    "label_encoder = LabelEncoder()\n",
    "y = label_encoder.fit_transform(y)\n",
    "\n",
    "print(df['ALERT'].value_counts())"
   ]
  },
  {
   "cell_type": "code",
   "execution_count": null,
   "metadata": {},
   "outputs": [],
   "source": [
    "# Initial train test split set and split the dataset into training and testing sets\n",
    "X_train, X_test, y_train, y_test = train_test_split(\n",
    "    X, y, test_size=0.2, random_state=42, stratify=y)\n",
    "\n",
    "# Convert data to TensorFlow tensors\n",
    "# X_train_tf = tf.convert_to_tensor(X_train.values, dtype=tf.float32)\n",
    "# y_train_tf = tf.convert_to_tensor(pd.factorize(y_train)[0], dtype=tf.int64)\n",
    "# X_test_tf = tf.convert_to_tensor(X_test.values, dtype=tf.float32)\n",
    "\n",
    "# Initialize MirroredStrategy for GPU acceleration\n",
    "strategy = tf.distribute.MirroredStrategy()\n",
    "\n",
    "# Train the models\n",
    "with strategy.scope():\n",
    "    # Define various base models\n",
    "    base_models = [\n",
    "        RandomForestClassifier(random_state=42),\n",
    "        MLPClassifier(random_state=42),\n",
    "        LogisticRegression(random_state=42),\n",
    "        DecisionTreeClassifier(random_state=42)\n",
    "    ]\n",
    "    \n",
    "    # Create a Bagging Classifier with diverse base models\n",
    "    # Bagging is an ensemble technique that combines predictions from multiple models, and is effective in reducing overfitting.\n",
    "    bagging_model = BaggingClassifier(\n",
    "        base_models[0], n_estimators=len(base_models), random_state=42)\n",
    "\n",
    "    # Train the bagging model\n",
    "    bagging_model.fit(X_train, y_train)\n",
    "\n",
    "    # Make predictions on the test set\n",
    "    y_pred_enc = bagging_model.predict(X_test)\n",
    "    y_pred_enc_proba = bagging_model.predict_proba(X_test)\n",
    "\n",
    "# Convert probabilities to TensorFlow tensors\n",
    "pred_tf = tf.convert_to_tensor(y_pred_enc, dtype=tf.float32)\n"
   ]
  },
  {
   "cell_type": "code",
   "execution_count": null,
   "metadata": {},
   "outputs": [],
   "source": [
    "# Evaluate the model\n",
    "accuracy = accuracy_score(y_test, y_pred_enc)\n",
    "print(f\"Accuracy: {accuracy}\")"
   ]
  },
  {
   "cell_type": "code",
   "execution_count": null,
   "metadata": {},
   "outputs": [],
   "source": [
    "# Use inverse_transform to get original labels\n",
    "y_pred = label_encoder.inverse_transform(y_pred_enc)\n",
    "y_test_labels = label_encoder.inverse_transform(y_test)\n",
    "\n",
    "# Classification Report\n",
    "print(\"\\nClassification Report:\")\n",
    "print(classification_report(y_test_labels, y_pred))"
   ]
  },
  {
   "cell_type": "code",
   "execution_count": null,
   "metadata": {},
   "outputs": [],
   "source": [
    "\n",
    "# Confusion matrix with string labels\n",
    "conf_mat = confusion_matrix(y_test_labels, y_pred)\n",
    "\n",
    "# Get unique class labels from y_test and y_pred_encoded\n",
    "unique_labels = np.unique(np.concatenate(\n",
    "    (y_test_labels, y_pred)))\n",
    "\n",
    "# Plotting the Confusion Matrix with class labels\n",
    "plt.figure(figsize=(6, 6))\n",
    "sns.heatmap(conf_mat, annot=True, fmt=\"d\", cmap=\"Blues\", cbar=False,\n",
    "            xticklabels=unique_labels, yticklabels=unique_labels)\n",
    "plt.title('Confusion Matrix')\n",
    "plt.xlabel('Predicted')\n",
    "plt.ylabel('Actual')\n",
    "plt.show()"
   ]
  },
  {
   "cell_type": "code",
   "execution_count": null,
   "metadata": {},
   "outputs": [],
   "source": [
    "# Extract feature importances from base models\n",
    "base_models_importances = {}\n",
    "\n",
    "for i, model in enumerate(bagging_model.estimators_):\n",
    "    if hasattr(model, 'feature_importances_'):\n",
    "        base_models_importances[f'base_model_{i}'] = model.feature_importances_\n",
    "\n",
    "# Create a DataFrame for visualization\n",
    "importance_df = pd.DataFrame(base_models_importances, index=X.columns)\n",
    "\n",
    "# Calculate average feature importance across base models\n",
    "average_importance = importance_df.mean(axis=1)\n",
    "\n",
    "# Sort features by average importance\n",
    "sorted_importance = average_importance.sort_values(ascending=False)\n",
    "\n",
    "# Visualize the feature importances\n",
    "plt.figure(figsize=(14, 20))\n",
    "sns.barplot(x=sorted_importance.values,\n",
    "            y=sorted_importance.index, palette='mako')\n",
    "plt.xlabel('Average Importance Value')\n",
    "plt.ylabel('Feature Name')\n",
    "plt.title('Average Feature Importance in BaggingClassifier')\n",
    "plt.show()"
   ]
  }
 ],
 "metadata": {
  "kernelspec": {
   "display_name": ".venv",
   "language": "python",
   "name": "python3"
  },
  "language_info": {
   "codemirror_mode": {
    "name": "ipython",
    "version": 3
   },
   "file_extension": ".py",
   "mimetype": "text/x-python",
   "name": "python",
   "nbconvert_exporter": "python",
   "pygments_lexer": "ipython3",
   "version": "3.9.18"
  }
 },
 "nbformat": 4,
 "nbformat_minor": 2
}
