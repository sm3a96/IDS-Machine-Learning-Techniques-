{
 "cells": [
  {
   "cell_type": "code",
   "execution_count": 2,
   "metadata": {},
   "outputs": [
    {
     "name": "stderr",
     "output_type": "stream",
     "text": [
      "/tmp/ipykernel_2016399/3441968052.py:17: DtypeWarning: Columns (29) have mixed types. Specify dtype option on import or set low_memory=False.\n",
      "  df = pd.read_csv('/home/ibibers@ads.iu.edu/IDS_Datasets/Combined_datasets/Simargl2022_combined_dataset.csv')\n"
     ]
    }
   ],
   "source": [
    "# -*- coding: utf-8 -*- \n",
    "# This code is written in Python 3.7. To install the required packages, run the following commands:\n",
    "# pip install pandas numpy matplotlib seaborn scikit-learn sympy\n",
    "# This code is applicable to the Simargl 2022 dataset. \n",
    "\n",
    "import pandas as pd\n",
    "# Load the dataset\n",
    "df = pd.read_csv('/home/ibibers@ads.iu.edu/IDS_Datasets/Combined_datasets/Simargl2022_combined_dataset.csv')\n",
    "\n",
    "# Drop duplicates\n",
    "main_df_1 = df.drop_duplicates(keep='first')\n",
    "\n",
    "# Drop columns that have just one unique value\n",
    "one_value = main_df_1.columns[main_df_1.nunique() == 1]\n",
    "main_df_2 = main_df_1.drop(columns = one_value, axis=1)\n"
   ]
  },
  {
   "cell_type": "code",
   "execution_count": 3,
   "metadata": {},
   "outputs": [],
   "source": [
    "sample_df_1 = main_df_2.copy()"
   ]
  },
  {
   "cell_type": "code",
   "execution_count": 4,
   "metadata": {},
   "outputs": [
    {
     "name": "stdout",
     "output_type": "stream",
     "text": [
      " Extract subsample of data: \n",
      "ALERT\n",
      "Denial of Service    5138973\n",
      "Port Scanning        4170194\n",
      "Malware                  571\n",
      "Name: count, dtype: int64\n"
     ]
    }
   ],
   "source": [
    "# Extract subsample of data\n",
    "print (\" Extract subsample of data: \")\n",
    "print(sample_df_1['ALERT'].value_counts())"
   ]
  },
  {
   "cell_type": "code",
   "execution_count": 5,
   "metadata": {},
   "outputs": [
    {
     "name": "stdout",
     "output_type": "stream",
     "text": [
      "     FLOW_ID PROTOCOL_MAP  L4_SRC_PORT   IPV4_SRC_ADDR  L4_DST_PORT  \\\n",
      "0  334626451          tcp        50242  10.114.241.191          443   \n",
      "1  334626948          tcp        50244  10.114.241.191          443   \n",
      "2  334627641          tcp        50246  10.114.241.191          443   \n",
      "3  334628195          tcp        50248  10.114.241.191          443   \n",
      "4  334628673          tcp        54328  10.114.241.191          443   \n",
      "\n",
      "   IPV4_DST_ADDR  FIRST_SWITCHED  FLOW_DURATION_MILLISECONDS  LAST_SWITCHED  \\\n",
      "0  10.114.224.73      1647344604                         105     1647344604   \n",
      "1  10.114.224.73      1647344609                           6     1647344609   \n",
      "2  10.114.224.73      1647344614                         111     1647344614   \n",
      "3  10.114.224.73      1647344619                           6     1647344619   \n",
      "4  10.114.224.73      1647344534                      110000     1647344644   \n",
      "\n",
      "   PROTOCOL  ...  SRC_TOS  DST_TOS  TOTAL_FLOWS_EXP  IN_BYTES  IN_PKTS  \\\n",
      "0         6  ...        0        0        334626451       551        5   \n",
      "1         6  ...        0        0        334626948       551        5   \n",
      "2         6  ...        0        0        334627641       551        5   \n",
      "3         6  ...        0        0        334628195       551        5   \n",
      "4         6  ...        0        0        334628673      1309       12   \n",
      "\n",
      "   OUT_BYTES  OUT_PKTS              ALERT  ANALYSIS_TIMESTAMP  ANOMALY  \n",
      "0        192         4  Denial of Service          1647344695      NaN  \n",
      "1        192         4  Denial of Service          1647344695      NaN  \n",
      "2        192         4  Denial of Service          1647344695      NaN  \n",
      "3        192         4  Denial of Service          1647344695      NaN  \n",
      "4        624        12  Denial of Service          1647344695      NaN  \n",
      "\n",
      "[5 rows x 28 columns]\n"
     ]
    }
   ],
   "source": [
    "print (main_df_2.head())"
   ]
  },
  {
   "cell_type": "code",
   "execution_count": 6,
   "metadata": {},
   "outputs": [
    {
     "name": "stdout",
     "output_type": "stream",
     "text": [
      "<class 'pandas.core.frame.DataFrame'>\n",
      "Index: 24359068 entries, 0 to 30148257\n",
      "Data columns (total 28 columns):\n",
      " #   Column                      Dtype  \n",
      "---  ------                      -----  \n",
      " 0   FLOW_ID                     int64  \n",
      " 1   PROTOCOL_MAP                object \n",
      " 2   L4_SRC_PORT                 int64  \n",
      " 3   IPV4_SRC_ADDR               object \n",
      " 4   L4_DST_PORT                 int64  \n",
      " 5   IPV4_DST_ADDR               object \n",
      " 6   FIRST_SWITCHED              int64  \n",
      " 7   FLOW_DURATION_MILLISECONDS  int64  \n",
      " 8   LAST_SWITCHED               int64  \n",
      " 9   PROTOCOL                    int64  \n",
      " 10  TCP_FLAGS                   int64  \n",
      " 11  TCP_WIN_MAX_IN              int64  \n",
      " 12  TCP_WIN_MAX_OUT             int64  \n",
      " 13  TCP_WIN_MIN_IN              int64  \n",
      " 14  TCP_WIN_MIN_OUT             int64  \n",
      " 15  TCP_WIN_MSS_IN              int64  \n",
      " 16  TCP_WIN_SCALE_IN            int64  \n",
      " 17  TCP_WIN_SCALE_OUT           int64  \n",
      " 18  SRC_TOS                     int64  \n",
      " 19  DST_TOS                     int64  \n",
      " 20  TOTAL_FLOWS_EXP             int64  \n",
      " 21  IN_BYTES                    int64  \n",
      " 22  IN_PKTS                     int64  \n",
      " 23  OUT_BYTES                   int64  \n",
      " 24  OUT_PKTS                    int64  \n",
      " 25  ALERT                       object \n",
      " 26  ANALYSIS_TIMESTAMP          int64  \n",
      " 27  ANOMALY                     float64\n",
      "dtypes: float64(1), int64(23), object(4)\n",
      "memory usage: 5.3+ GB\n"
     ]
    }
   ],
   "source": [
    "sample_df_1.info()"
   ]
  },
  {
   "cell_type": "code",
   "execution_count": 7,
   "metadata": {},
   "outputs": [
    {
     "name": "stdout",
     "output_type": "stream",
     "text": [
      "Categorical Columns: Index(['PROTOCOL_MAP', 'IPV4_SRC_ADDR', 'IPV4_DST_ADDR', 'ALERT'], dtype='object')\n"
     ]
    }
   ],
   "source": [
    "# # To see the features that are need to be encoded \"Which are not numerical\"\n",
    "categorical_columns = sample_df_1.select_dtypes(include=['object']).columns\n",
    "print(\"Categorical Columns:\", categorical_columns)"
   ]
  },
  {
   "cell_type": "code",
   "execution_count": 8,
   "metadata": {},
   "outputs": [
    {
     "name": "stdout",
     "output_type": "stream",
     "text": [
      "FLOW_ID                              0\n",
      "PROTOCOL_MAP                         0\n",
      "L4_SRC_PORT                          0\n",
      "IPV4_SRC_ADDR                        0\n",
      "L4_DST_PORT                          0\n",
      "IPV4_DST_ADDR                        0\n",
      "FIRST_SWITCHED                       0\n",
      "FLOW_DURATION_MILLISECONDS           0\n",
      "LAST_SWITCHED                        0\n",
      "PROTOCOL                             0\n",
      "TCP_FLAGS                            0\n",
      "TCP_WIN_MAX_IN                       0\n",
      "TCP_WIN_MAX_OUT                      0\n",
      "TCP_WIN_MIN_IN                       0\n",
      "TCP_WIN_MIN_OUT                      0\n",
      "TCP_WIN_MSS_IN                       0\n",
      "TCP_WIN_SCALE_IN                     0\n",
      "TCP_WIN_SCALE_OUT                    0\n",
      "SRC_TOS                              0\n",
      "DST_TOS                              0\n",
      "TOTAL_FLOWS_EXP                      0\n",
      "IN_BYTES                             0\n",
      "IN_PKTS                              0\n",
      "OUT_BYTES                            0\n",
      "OUT_PKTS                             0\n",
      "ALERT                         15049330\n",
      "ANALYSIS_TIMESTAMP                   0\n",
      "ANOMALY                       18416120\n",
      "dtype: int64\n"
     ]
    }
   ],
   "source": [
    "# Count the numner of the novsalues in the categorical columns\n",
    "print(sample_df_1.isna().sum())"
   ]
  },
  {
   "cell_type": "code",
   "execution_count": 9,
   "metadata": {},
   "outputs": [
    {
     "name": "stdout",
     "output_type": "stream",
     "text": [
      "No columns with leading spaces found.\n"
     ]
    }
   ],
   "source": [
    "# Print the columns with leading spaces, if any\n",
    "columns_with_leading_spaces = [col for col in sample_df_1.columns if col.startswith(' ')]\n",
    "\n",
    "if columns_with_leading_spaces:\n",
    "    print(\"Columns with leading spaces:\", columns_with_leading_spaces)\n",
    "else:\n",
    "    print(\"No columns with leading spaces found.\")\n",
    "\n",
    "# Remove leading space character in all feature names\n",
    "# sample_df_1.rename(columns=lambda x: x.lstrip(), inplace=True)"
   ]
  },
  {
   "cell_type": "code",
   "execution_count": 10,
   "metadata": {},
   "outputs": [
    {
     "name": "stderr",
     "output_type": "stream",
     "text": [
      "/tmp/ipykernel_2016399/2859634318.py:3: FutureWarning: A value is trying to be set on a copy of a DataFrame or Series through chained assignment using an inplace method.\n",
      "The behavior will change in pandas 3.0. This inplace method will never work because the intermediate object on which we are setting values always behaves as a copy.\n",
      "\n",
      "For example, when doing 'df[col].method(value, inplace=True)', try using 'df.method({col: value}, inplace=True)' or df[col] = df[col].method(value) instead, to perform the operation inplace on the original object.\n",
      "\n",
      "\n",
      "  sample_df_1['ANOMALY'].fillna(median_anomaly, inplace=True)\n"
     ]
    }
   ],
   "source": [
    "# fill the missing values with the median of the column\n",
    "median_anomaly = sample_df_1['ANOMALY'].median()\n",
    "sample_df_1['ANOMALY'].fillna(median_anomaly, inplace=True)"
   ]
  },
  {
   "cell_type": "code",
   "execution_count": 11,
   "metadata": {},
   "outputs": [
    {
     "name": "stderr",
     "output_type": "stream",
     "text": [
      "/tmp/ipykernel_2016399/1235848362.py:2: FutureWarning: A value is trying to be set on a copy of a DataFrame or Series through chained assignment using an inplace method.\n",
      "The behavior will change in pandas 3.0. This inplace method will never work because the intermediate object on which we are setting values always behaves as a copy.\n",
      "\n",
      "For example, when doing 'df[col].method(value, inplace=True)', try using 'df.method({col: value}, inplace=True)' or df[col] = df[col].method(value) instead, to perform the operation inplace on the original object.\n",
      "\n",
      "\n",
      "  sample_df_1['ALERT'].fillna('Normal', inplace=True)\n"
     ]
    }
   ],
   "source": [
    "#  fill the missing values with the most frequent value in the column\n",
    "sample_df_1['ALERT'].fillna('Normal', inplace=True)"
   ]
  },
  {
   "cell_type": "code",
   "execution_count": 12,
   "metadata": {},
   "outputs": [],
   "source": [
    "from sklearn.preprocessing import OrdinalEncoder\n",
    "\n",
    "categorical_columns = ['PROTOCOL_MAP', 'IPV4_DST_ADDR', 'IPV4_SRC_ADDR']\n",
    "\n",
    "# Initialize the OrdinalEncoder\n",
    "ordinal_encoder = OrdinalEncoder()\n",
    "\n",
    "# Fit and transform the categorical columns\n",
    "sample_df_1[categorical_columns] = ordinal_encoder.fit_transform(\n",
    "    sample_df_1[categorical_columns])"
   ]
  },
  {
   "cell_type": "code",
   "execution_count": 13,
   "metadata": {},
   "outputs": [
    {
     "name": "stdout",
     "output_type": "stream",
     "text": [
      " Extract subsample of data: \n",
      "ALERT\n",
      "Normal               15049330\n",
      "Denial of Service     5138973\n",
      "Port Scanning         4170194\n",
      "Malware                   571\n",
      "Name: count, dtype: int64\n"
     ]
    }
   ],
   "source": [
    "# Extract subsample of data\n",
    "print(\" Extract subsample of data: \")\n",
    "print(sample_df_1['ALERT'].value_counts())"
   ]
  },
  {
   "cell_type": "code",
   "execution_count": 19,
   "metadata": {},
   "outputs": [
    {
     "name": "stdout",
     "output_type": "stream",
     "text": [
      "Categorical Columns: Index(['ALERT'], dtype='object')\n"
     ]
    }
   ],
   "source": [
    "# # To see the features that are need to be encoded \"Which are not numerical\"\n",
    "categorical_columns = sample_df_1.select_dtypes(include=['object']).columns\n",
    "print(\"Categorical Columns:\", categorical_columns)"
   ]
  },
  {
   "cell_type": "code",
   "execution_count": 22,
   "metadata": {},
   "outputs": [],
   "source": [
    "# Use the to_csv method to save the DataFrame to a CSV file\n",
    "sample_df_1.to_csv(\n",
    "    '/home/ibibers@ads.iu.edu/IDS_Datasets/Combined_datasets/Simargl_cleaned_dataset.csv', index=False)\n"
   ]
  }
 ],
 "metadata": {
  "kernelspec": {
   "display_name": ".venv",
   "language": "python",
   "name": "python3"
  },
  "language_info": {
   "codemirror_mode": {
    "name": "ipython",
    "version": 3
   },
   "file_extension": ".py",
   "mimetype": "text/x-python",
   "name": "python",
   "nbconvert_exporter": "python",
   "pygments_lexer": "ipython3",
   "version": "3.9.18"
  }
 },
 "nbformat": 4,
 "nbformat_minor": 2
}
